{
  "nbformat": 4,
  "nbformat_minor": 0,
  "metadata": {
    "colab": {
      "name": "VaR.ipynb",
      "provenance": [],
      "authorship_tag": "ABX9TyOq0m2t7sNuzQuRpQlx3iHR"
    },
    "kernelspec": {
      "name": "python3",
      "display_name": "Python 3"
    }
  },
  "cells": [
    {
      "cell_type": "code",
      "metadata": {
        "id": "yqX63A-3r8mh"
      },
      "source": [
        "# VaR for a portfolio\n",
        "\n",
        "import numpy as np\n",
        "import pandas as pd\n",
        "from pandas_datareader import data as pdr\n",
        "import fix_yahoo_finance as yf\n",
        "import datetime as dt\n",
        "from scipy.stats import norm\n",
        "import matplotlib.pyplot as plt\n",
        "import matplotlib.mlab as mlab\n",
        "\n",
        "# Equities lists tickers as symbols for crypto implementation\n",
        "symbols = ['TSLA', 'AAPL', 'FB', 'AMZ']\n",
        "\n",
        "# Weights array\n",
        "weights = np.array([0.5, 0.2, 0.2, 0.1])\n",
        "\n",
        "# Investment amount\n",
        "investment_amount = 1000000\n",
        "\n",
        "# Data\n",
        "data = pdr.get_data_yahoo(symbols, start='2014-01-01', end=dt.date.today())['Close']\n",
        "\n",
        "# Basic calculations\n",
        "returns = data.pct_change()\n",
        "cov_matrix = returns.cov()\n",
        "avg_rtn = returns.mean()\n",
        "port_mean = avg_rtn.dot(weights)\n",
        "port_stdev = np.sqrt(weights.T.dot(cov_matrix).dot(weights))\n",
        "mean_investment = (1+port_mean) * investment_amount\n",
        "stdev_investment = investment_amount * port_stdev \n",
        "\n",
        "# Confidence level and percentage point function\n",
        "confidence_lvl = 0.05\n",
        "cutoff = norm.ppf(confidence_lvl, mean_investment, stdev_investment)\n",
        "\n",
        "# 1 day 95% VaR\n",
        "var_1d1 = investment_amount - cutoff\n",
        "\n",
        "# n day VaR\n",
        "var_array = []\n",
        "num_days = 30\n",
        "\n",
        "for x in range(1, num_days+1):\n",
        "  var_array.append(np.round(var_1d1 * np.sqrt(x), 2))\n",
        "  print(str(x) + ' day VaR @ 95% confidence: ' + str(np.round(var_1d1 * np.sqrt(x), 2)))\n",
        "\n",
        "plt.figure(figsize=(18,14))\n",
        "plt.xlabel('Day #')\n",
        "plt.ylabel('Max Loss ($)')\n",
        "plt.title(f'Portfolio {(1 - confidence_lvl) * 100}% VaR over {num_days} days')\n",
        "plt.plot(var_array)\n"
      ],
      "execution_count": null,
      "outputs": []
    },
    {
      "cell_type": "code",
      "metadata": {
        "id": "sxRbu1zC15Zk"
      },
      "source": [
        "# Individual asset returns distribution histogram, against portfolio normal\n",
        "\n",
        "plt.figure(figsize=(18,14))\n",
        "returns['TSLA'].hist(bins=40, histtype='stepfilled', alpha=0.5)\n",
        "x = np.linspace(port_mean - 3 * port_stdev, port_mean + 3 * port_stdev, 100)\n",
        "plt.plot(x, norm.pdf(x, port_mean, port_stdev), 'r')\n",
        "plt.title('AAPL returns binned vs normal distribution')\n"
      ],
      "execution_count": null,
      "outputs": []
    }
  ]
}